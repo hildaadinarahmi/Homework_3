{
  "nbformat": 4,
  "nbformat_minor": 0,
  "metadata": {
    "colab": {
      "provenance": []
    },
    "kernelspec": {
      "name": "python3",
      "display_name": "Python 3"
    },
    "language_info": {
      "name": "python"
    }
  },
  "cells": [
    {
      "cell_type": "code",
      "execution_count": null,
      "metadata": {
        "colab": {
          "base_uri": "https://localhost:8080/"
        },
        "id": "cxzrx6wqWndj",
        "outputId": "edb1faf9-3fb5-455a-e0b1-91f43cc62570"
      },
      "outputs": [
        {
          "output_type": "execute_result",
          "data": {
            "text/plain": [
              "32"
            ]
          },
          "metadata": {},
          "execution_count": 13
        }
      ],
      "source": [
        "# No. 1\n",
        "\n",
        "def getMaxVal (input1, input2, input3):\n",
        "\n",
        "  if input1 > input2 and input1 > input3:\n",
        "    return input1\n",
        "  elif input2 > input1 and input2 > input3:\n",
        "    return input2\n",
        "  else:\n",
        "    return input3\n",
        "\n",
        "getMaxVal(21,1,32)"
      ]
    },
    {
      "cell_type": "code",
      "source": [
        "# No. 2\n",
        "def getMaxValArr (inputArr):\n",
        "  total = 0\n",
        "  count = 0\n",
        "\n",
        "  for num in inputArr:\n",
        "    total += num\n",
        "    count += 1\n",
        "\n",
        "  if count == 0:\n",
        "    return 0\n",
        "\n",
        "  return total / count\n",
        "\n",
        "getMaxValArr([32,43,11,22])"
      ],
      "metadata": {
        "colab": {
          "base_uri": "https://localhost:8080/"
        },
        "id": "XR9ayemCZ1Wa",
        "outputId": "093433bc-e57a-4334-b3d3-222c5d0fe555"
      },
      "execution_count": null,
      "outputs": [
        {
          "output_type": "execute_result",
          "data": {
            "text/plain": [
              "27.0"
            ]
          },
          "metadata": {},
          "execution_count": 22
        }
      ]
    },
    {
      "cell_type": "code",
      "source": [
        "# No. 3\n",
        "def count_even_odd(numbers):\n",
        "    even_count = 0\n",
        "    odd_count = 0\n",
        "\n",
        "\n",
        "    for num in numbers:\n",
        "        if num % 4 == 0:\n",
        "            even_count += 1\n",
        "        else:\n",
        "            odd_count += 1\n",
        "\n",
        "    return (even_count, odd_count)\n",
        "\n",
        "\n",
        "numbers = [11, 12, 13, 14, 15, 16, 17]\n",
        "print(count_even_odd(numbers))\n"
      ],
      "metadata": {
        "colab": {
          "base_uri": "https://localhost:8080/"
        },
        "id": "YAtY7YddfMLB",
        "outputId": "b1e21077-5c69-40cf-8e68-ac3a5cc5bacd"
      },
      "execution_count": null,
      "outputs": [
        {
          "output_type": "stream",
          "name": "stdout",
          "text": [
            "(2, 5)\n"
          ]
        }
      ]
    },
    {
      "cell_type": "code",
      "source": [
        "# No. 4\n",
        "def sort_letters(string):\n",
        "    lower_case = \"\"\n",
        "    upper_case = \"\"\n",
        "\n",
        "\n",
        "    for char in string:\n",
        "        if char.islower():\n",
        "            lower_case += char\n",
        "        elif char.isupper():\n",
        "            upper_case += char\n",
        "\n",
        "    return lower_case + upper_case\n",
        "\n",
        "\n",
        "input_string = \"TunasMandiri\"\n",
        "print(sort_letters(input_string))\n"
      ],
      "metadata": {
        "colab": {
          "base_uri": "https://localhost:8080/"
        },
        "id": "2KxMIaMCfgvu",
        "outputId": "7201490b-4ae6-4d2f-a75b-064e49542abc"
      },
      "execution_count": null,
      "outputs": [
        {
          "output_type": "stream",
          "name": "stdout",
          "text": [
            "unasandiriTM\n"
          ]
        }
      ]
    },
    {
      "cell_type": "code",
      "source": [
        "# No. 5\n",
        "def hitung_kemunculan_kata(kata):\n",
        "  hasil = {}\n",
        "\n",
        "  for karakter in kata:\n",
        "\n",
        "    if karakter in hasil:\n",
        "      hasil[karakter] += 1\n",
        "    else:\n",
        "      hasil[karakter] = 1\n",
        "\n",
        "  return hasil\n",
        "\n",
        "input_kata = \"Tunas Mandiri\"\n",
        "output = hitung_kemunculan_kata(input_kata)\n",
        "print(output)"
      ],
      "metadata": {
        "id": "h_XnJXpvwrpk",
        "colab": {
          "base_uri": "https://localhost:8080/"
        },
        "outputId": "6c239d47-cdd1-46d5-a960-311fe0f24774"
      },
      "execution_count": null,
      "outputs": [
        {
          "output_type": "stream",
          "name": "stdout",
          "text": [
            "{'T': 1, 'u': 1, 'n': 2, 'a': 2, 's': 1, ' ': 1, 'M': 1, 'd': 1, 'i': 2, 'r': 1}\n"
          ]
        }
      ]
    },
    {
      "cell_type": "code",
      "source": [
        "#No.6\n",
        "def show_employee(nama, gaji=2000000):\n",
        "    print(f\"Nama: {nama}, Gaji: {gaji}\")\n",
        "\n",
        "\n",
        "    return {\"nama\": nama, \"gaji\": gaji}\n",
        "\n",
        "employee1 = show_employee(\"Hilda\", 10000000)\n",
        "print(employee1)\n",
        "\n",
        "employee2 = show_employee(\"Nonie\")\n",
        "print(employee2)"
      ],
      "metadata": {
        "colab": {
          "base_uri": "https://localhost:8080/"
        },
        "id": "y82Afi_c2yFq",
        "outputId": "c5353cae-86f0-41ee-a0c6-d833a5203ff5"
      },
      "execution_count": null,
      "outputs": [
        {
          "output_type": "stream",
          "name": "stdout",
          "text": [
            "Nama: Hilda, Gaji: 10000000\n",
            "{'nama': 'Hilda', 'gaji': 10000000}\n",
            "Nama: Nonie, Gaji: 2000000\n",
            "{'nama': 'Nonie', 'gaji': 2000000}\n"
          ]
        }
      ]
    }
  ]
}